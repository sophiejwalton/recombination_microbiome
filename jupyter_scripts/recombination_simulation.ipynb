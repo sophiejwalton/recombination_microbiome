{
 "cells": [
  {
   "cell_type": "code",
   "execution_count": null,
   "metadata": {},
   "outputs": [],
   "source": [
    "import numpy as np\n",
    "import matplotlib.pyplot as plt\n",
    "import seaborn as sns\n",
    "from scipy import stats"
   ]
  },
  {
   "cell_type": "code",
   "execution_count": null,
   "metadata": {},
   "outputs": [],
   "source": [
    "import matplotlib\n",
    "matplotlib.__version__"
   ]
  },
  {
   "cell_type": "code",
   "execution_count": null,
   "metadata": {},
   "outputs": [],
   "source": [
    "from matplotlib import rc\n",
    "rc('font',**{'family':'sans-serif','sans-serif':['Helvetica']})\n",
    "## for Palatino and other serif fonts use:\n",
    "#rc('font',**{'family':'serif','serif':['Palatino']})\n",
    "rc('text', usetex=True)"
   ]
  },
  {
   "cell_type": "markdown",
   "metadata": {},
   "source": [
    "## All independent"
   ]
  },
  {
   "cell_type": "code",
   "execution_count": null,
   "metadata": {},
   "outputs": [],
   "source": [
    "ps = [0.001, 0.005, 0.01, 0.02]\n",
    "plt.figure(figsize=(8,6), dpi=600)\n",
    "ax = plt.gca()\n",
    "ax.set_yscale('log')\n",
    "\n",
    "for p in ps:\n",
    "    snps = np.random.binomial(1, p, size=int(1e6))\n",
    "    locations = np.where(snps == 1)[0]\n",
    "    run_lengths = locations[1:] - locations[:-1]\n",
    "    p_emp = sum(snps) / 1e6\n",
    "    _ = ax.hist(run_lengths * p_emp, density=True, bins=50, cumulative=-1, histtype='step', label='d = %f'%p)\n",
    "ax.legend()\n",
    "ax.set_title('Completely clonal')\n",
    "ax.set_xlabel('Run length * divergence')\n",
    "ax.set_ylabel('Survival proba')\n",
    "plt.savefig('clonal.pdf')"
   ]
  },
  {
   "cell_type": "markdown",
   "metadata": {},
   "source": [
    "## Fixed block sizes"
   ]
  },
  {
   "cell_type": "code",
   "execution_count": null,
   "metadata": {},
   "outputs": [],
   "source": [
    "def plot_linear_fit(ax, data_for_fit, fit_range):\n",
    "    ys = []\n",
    "    xs = []\n",
    "    for dat in data_for_fit:\n",
    "        arr = np.array([(dat[1][i] + dat[1][i+1])/2 for i in range(len(dat[1])-1)])\n",
    "        ys.append(np.array(dat[0])[(arr > fit_range[0]) & (arr < fit_range[1])]) # TODO: 6 is a eyeballed cutoff\n",
    "        xs.append(arr[(arr > fit_range[0]) & (arr < fit_range[1])])\n",
    "    xs = [x for l in xs for x in l]\n",
    "    ys = [y for l in ys for y in l]\n",
    "    ys = np.log(ys)\n",
    "    slope, intercept, r_value, p_value, std_err = stats.linregress(xs, ys)\n",
    "    x_plot = np.linspace(fit_range[0], fit_range[1], 100)\n",
    "    ax.plot(x_plot, np.exp(x_plot * slope + intercept), label='Slope = %.2f' % slope)\n",
    "    return slope"
   ]
  },
  {
   "cell_type": "code",
   "execution_count": null,
   "metadata": {},
   "outputs": [],
   "source": [
    "total_len = 1e6\n",
    "block_size = 1e5"
   ]
  },
  {
   "cell_type": "code",
   "execution_count": null,
   "metadata": {},
   "outputs": [],
   "source": [
    "p = 0.01\n",
    "plt.figure(figsize=(8,6), dpi=600)\n",
    "ax = plt.gca()\n",
    "ax.set_yscale('log')\n",
    "ax.set_xlim([0, 20])\n",
    "\n",
    "total_len = 1e6\n",
    "sizes = [1, 10, 100, 300, 500, 1000, 5000, 10000, 100000, 1000000]\n",
    "fit_ranges = [(0, 8), (0, 8), (4, 10), (4, 10), (4, 10), (4, 10), (4, 10), (4, 10), (4, 10), (0, 8)]\n",
    "\n",
    "for i in range(len(sizes)):\n",
    "    block_size = sizes[i]\n",
    "    c = sns.color_palette()[i]\n",
    "    fit_range = fit_ranges[i]\n",
    "    data_for_fit = []\n",
    "    for j in range(10):\n",
    "        ps = np.random.exponential(p, size=int(total_len/block_size))\n",
    "        all_ps = np.repeat(ps, block_size)\n",
    "\n",
    "        snps = np.random.binomial(1, all_ps)\n",
    "        locations = np.where(snps == 1)[0]\n",
    "        run_lengths = locations[1:] - locations[:-1]\n",
    "        div = float(sum(snps)) / len(snps)\n",
    "        histo = ax.hist(run_lengths * div, bins=50, cumulative=-1, density=True, histtype='step', color=c, alpha=0.4)\n",
    "        data_for_fit.append(histo)\n",
    "    ax.plot([], color=c, label='l = %d'%block_size)\n",
    "    #plot_linear_fit(ax, data_for_fit, fit_range)\n",
    "ax.legend()\n",
    "ax.set_title('Fixed block sizes')\n",
    "ax.set_xlabel('Run length * divergence')\n",
    "ax.set_ylabel('Survival proba')\n",
    "plt.savefig('fixed_block.pdf')"
   ]
  },
  {
   "cell_type": "code",
   "execution_count": null,
   "metadata": {},
   "outputs": [],
   "source": [
    "p = 0.01\n",
    "plt.figure(figsize=(8,6), dpi=600)\n",
    "ax = plt.gca()\n",
    "ax.set_yscale('log')\n",
    "#ax.set_xlim([0, 20])\n",
    "#ax.set_xscale('log')\n",
    "\n",
    "total_len = 1e6\n",
    "sizes = [100, 300, 500, 700,  1000, 2000, 3000, 5000, 8000, 10000, 30000, 50000]\n",
    "\n",
    "for i in range(len(sizes)):\n",
    "    block_size = sizes[i]\n",
    "    c = sns.color_palette()[i % len(sns.color_palette())]\n",
    "    data_for_fit = []\n",
    "    for j in range(100):\n",
    "        ps = np.random.exponential(p, size=int(total_len/block_size))\n",
    "        all_ps = np.repeat(ps, block_size)\n",
    "\n",
    "        snps = np.random.binomial(1, all_ps)\n",
    "        locations = np.where(snps == 1)[0]\n",
    "        run_lengths = locations[1:] - locations[:-1]\n",
    "        div = float(sum(snps)) / len(snps)\n",
    "        histo = ax.hist(run_lengths * div, bins=50, cumulative=-1, density=True, histtype='step', color=c, alpha=0.1)\n",
    "    ax.plot([], color=c, label='%d'%block_size)\n",
    "ax.legend()"
   ]
  },
  {
   "cell_type": "code",
   "execution_count": null,
   "metadata": {},
   "outputs": [],
   "source": [
    "p = 0.01\n",
    "plt.figure(figsize=(8,6), dpi=600)\n",
    "ax = plt.gca()\n",
    "ax.set_yscale('log')\n",
    "#ax.set_xlim([0, 50])\n",
    "#ax.set_xscale('log')\n",
    "\n",
    "total_len = 1e6\n",
    "sizes = [1000]\n",
    "\n",
    "for i in range(len(sizes)):\n",
    "    block_size = sizes[i]\n",
    "    c = sns.color_palette()[i % len(sns.color_palette())]\n",
    "    data_for_fit = []\n",
    "    for j in range(1000):\n",
    "        ps = np.random.exponential(p, size=int(total_len/block_size))\n",
    "        all_ps = np.repeat(ps, block_size)\n",
    "\n",
    "        snps = np.random.binomial(1, all_ps)\n",
    "        locations = np.where(snps == 1)[0]\n",
    "        run_lengths = locations[1:] - locations[:-1]\n",
    "        div = float(sum(snps)) / len(snps)\n",
    "        histo = ax.hist(run_lengths * div, bins=50, cumulative=-1, density=True, histtype='step', color=c, alpha=0.1)\n",
    "    ax.plot([], color=c, label='l = %d'%block_size)\n",
    "ax.legend()\n",
    "ax.set_title('Fixed block sizes')\n",
    "ax.set_xlabel('Run length * divergence')\n",
    "ax.set_ylabel('Survival proba')\n",
    "plt.savefig('fixed_block_single.pdf')"
   ]
  },
  {
   "cell_type": "markdown",
   "metadata": {},
   "source": [
    "## Variable block sizes\n",
    "Exponential distribution of block sizes"
   ]
  },
  {
   "cell_type": "code",
   "execution_count": null,
   "metadata": {},
   "outputs": [],
   "source": [
    "rs = [0.1, 0.07, 0.05, 0.03, 0.025, 0.02, 0.015, 0.01, 0.008, 0.005, 0.003, 0.001]#, 5e-5, 1e-5]\n",
    "ranges = [(0, 10), (0, 10), (2, 12), (2, 12), (2, 12), (2, 12), (2, 12), (2, 12), (2, 12), (2,12), (2,12), (10, 20)]"
   ]
  },
  {
   "cell_type": "code",
   "execution_count": null,
   "metadata": {},
   "outputs": [],
   "source": [
    "print(len(rs), len(ranges))"
   ]
  },
  {
   "cell_type": "code",
   "execution_count": null,
   "metadata": {},
   "outputs": [],
   "source": [
    "p = 0.01\n",
    "total_len = 1e6\n",
    "rs = [0.1, 0.07, 0.05, 0.03, 0.025, 0.02, 0.015, 0.01, 0.008, 0.005, 0.003, 0.001]#, 5e-5, 1e-5]\n",
    "ranges = [(0, 10), (0, 10), (2, 12), (2, 12), (2, 12), (2, 12), (2, 12), (2, 12), (5, 15), (10,15), (10,15), (10, 20)]\n",
    "#slopes = []\n",
    "\n",
    "plt.figure(figsize=(8,6), dpi=600)\n",
    "ax = plt.gca()\n",
    "ax.set_xlim([0,20])\n",
    "ax.set_yscale('log')\n",
    "lengths = []\n",
    "for i in range(len(rs)):\n",
    "    r = rs[i]\n",
    "    c = sns.color_palette()[i % len(sns.color_palette())]\n",
    "    data_to_fit = []\n",
    "    for j in range(50):\n",
    "        block_len = 1/r\n",
    "        blocks = np.random.exponential(block_len, size=int(total_len / block_len))\n",
    "        ps = np.random.exponential(p, size=int(total_len / block_len))\n",
    "        all_ps = np.repeat(ps, blocks.astype(int))\n",
    "        snps = np.random.binomial(1, all_ps)\n",
    "        locations = np.where(snps == 1)[0]\n",
    "        run_lengths = locations[1:] - locations[:-1]\n",
    "        div = float(sum(snps)) / len(snps)\n",
    "        lengths.append(len(snps))\n",
    "        #data = run_lengths * div * r / (div + r)\n",
    "        data = run_lengths * div * (r / (div + r))\n",
    "        data = data[data > 1]\n",
    "        #histo = ax.hist(run_lengths * div * (r / (div + r)), bins=50, cumulative=-1, density=True, histtype='step', color=c, alpha=0.1)\n",
    "        histo = ax.hist(run_lengths * div, bins=50, cumulative=-1, density=True, histtype='step', color=c, alpha=0.1)\n",
    "        data_to_fit.append(histo)\n",
    "    ax.plot([], color=c, label='l bar = %d'%int(1/r))\n",
    "    #slopes.append(plot_linear_fit(ax, data_to_fit, ranges[i]))\n",
    "ax.legend()\n",
    "ax.set_title('Variable block sizes')\n",
    "ax.set_xlabel('Run length * divergence')\n",
    "ax.set_ylabel('Survival proba')\n",
    "plt.savefig('variable_block_sizes.pdf')"
   ]
  },
  {
   "cell_type": "code",
   "execution_count": null,
   "metadata": {},
   "outputs": [],
   "source": [
    "ax = plt.gca()\n",
    "ax.set_xlim([0, 1])\n",
    "ax.set_ylim([0, 1])\n",
    "fitx = np.array(rs) / (p + np.array(rs))\n",
    "fity = - np.array(slopes)\n",
    "ax.plot(fitx, fity, '.')\n",
    "slope, intercept, r_value, p_value, std_err = stats.linregress(fitx[:], fity[:])\n",
    "x_plot = np.linspace(min(fitx), max(fitx), 100)\n",
    "ax.plot(x_plot, x_plot * slope + intercept, label='Slope = %.2f' % slope)\n",
    "plt.plot(np.linspace(0, 1, 100), np.linspace(0, 1, 100))\n",
    "print(slope, intercept)"
   ]
  },
  {
   "cell_type": "code",
   "execution_count": null,
   "metadata": {},
   "outputs": [],
   "source": [
    "fitx / fity"
   ]
  },
  {
   "cell_type": "markdown",
   "metadata": {},
   "source": [
    "## Variable block sizes - but with correlation with coalescence time\n",
    "Algorithm:\n",
    "1. Generate N coalescence times t_i (or 2 * t * theta = hetero zygosity directly)\n",
    "2. Generate N block sizes l_i with exponential rate t * rho\n",
    "3. Generate a genome by repeating each coalescence time l_i times, by the time total lengths reaches L_tot, stop\n",
    "4. Generate ~L Bernoulli r.v. from the L_tot coalescence times\n",
    "5. Calculate run size distributions"
   ]
  },
  {
   "cell_type": "code",
   "execution_count": null,
   "metadata": {},
   "outputs": [],
   "source": [
    "p_mean = 0.01 # N_e * theta \\appox 1 - \\exp(-N_e * theta); N_e is the mean coalescence time\n",
    "r_over_mu = 1\n",
    "# then, the expected block size is 1/(p_mean * r_over_mu)\n",
    "L_tot = 1e6\n",
    "num_samples = 50\n",
    "r_over_mu_list = [0.01, 0.1, 0.3, 0.5, 0.7, 1, 3, 5, 7, 10, 100]\n",
    "fitting_ranges = [(15, 30), (10, 20), (10, 20), (5, 15), (5, 10), (5, 10), (5, 10), (5, 10), (5, 10)]"
   ]
  },
  {
   "cell_type": "code",
   "execution_count": null,
   "metadata": {},
   "outputs": [],
   "source": [
    "plt.figure(figsize=(8,6), dpi=600)\n",
    "ax = plt.gca()\n",
    "ax.set_yscale('log')\n",
    "#ax.set_xlim([0, 30])\n",
    "#slopes = []\n",
    "for i in range(len(r_over_mu_list)):\n",
    "    r_over_mu = r_over_mu_list[i]\n",
    "    c = sns.color_palette()[i % len(sns.color_palette())]\n",
    "    N = L_tot * (p_mean * r_over_mu)\n",
    "    data_to_fit = []\n",
    "\n",
    "    for j in range(num_samples):\n",
    "        ps = np.random.exponential(p_mean, size=2*int(N))\n",
    "        ls = np.random.geometric(1 - np.exp(-r_over_mu * ps))\n",
    "        # Dumb mistake below!\n",
    "        #ls = np.random.exponential(1. / (p_mean * r_over_mu), size=2*int(N))\n",
    "        ls = ls.astype(int)\n",
    "        cumu_L = np.cumsum(ls)\n",
    "        end_idx = np.nonzero(cumu_L > L_tot)[0][0]\n",
    "        all_ps = np.repeat(ps[:end_idx+1], ls[:end_idx+1])\n",
    "        # now throw Bernoulli tests\n",
    "        snps = np.random.binomial(1, all_ps)\n",
    "        locations = np.nonzero(snps == 1)[0]\n",
    "        run_lengths = locations[1:] - locations[:-1]\n",
    "        div = float(sum(snps)) / len(snps)\n",
    "        data = run_lengths * div / (1 + 1./r_over_mu)\n",
    "        data = data[data > 2]\n",
    "        histo = ax.hist(np.log10(run_lengths*div), bins=50, cumulative=-1, density=True, histtype='step', color=c, alpha=0.1)\n",
    "        data_to_fit.append(histo)\n",
    "\n",
    "    ax.plot([], label='r by mu = %f'%r_over_mu)\n",
    "    #slopes.append(plot_linear_fit(ax, data_to_fit, fitting_ranges[i]))\n",
    "ax.legend()\n",
    "ax.set_title('Sequential Markov Coalescence')\n",
    "ax.set_xlabel('Rescaled run lengths')\n",
    "ax.set_ylabel('Survival proba')\n",
    "#plt.savefig('rbymu_rescaled_thresholded_long.pdf')\n",
    "#plt.close()"
   ]
  },
  {
   "cell_type": "code",
   "execution_count": null,
   "metadata": {},
   "outputs": [],
   "source": [
    "max(ls)"
   ]
  },
  {
   "cell_type": "code",
   "execution_count": null,
   "metadata": {},
   "outputs": [],
   "source": [
    "ax = plt.gca()\n",
    "fitx =  1/(np.array(r_over_mu_list) + 1) - 1\n",
    "fity = np.array(slopes)\n",
    "ax.plot(fitx, fity, '.')\n",
    "slope, intercept, r_value, p_value, std_err = stats.linregress(fitx[:], fity[:])\n",
    "x_plot = np.linspace(min(fitx), max(fitx), 100)\n",
    "ax.plot(x_plot, x_plot * slope + intercept, label='Slope = %.2f' % slope)\n",
    "#plt.plot(np.linspace(0, 1, 100), np.linspace(0, 1, 100))\n",
    "print(slope, intercept)\n",
    "#ax.set_title('')\n",
    "ax.set_xlabel('-r / (r + mu)')\n",
    "ax.set_ylabel('Slopes')\n",
    "plt.savefig('slope_fit_transform.pdf')"
   ]
  },
  {
   "cell_type": "code",
   "execution_count": null,
   "metadata": {},
   "outputs": [],
   "source": [
    "_ = plt.hist(ls, bins=50, cumulative=-1, density=False, histtype='step')"
   ]
  },
  {
   "cell_type": "markdown",
   "metadata": {},
   "source": [
    "## Sanity check: exponential of exponential rates\n",
    "Y follows exponential with rate lambda;\n",
    "X follows exponential with rate Y;\n",
    "Then X will have pdf lambda/(lambda + x)^2 -> a power law"
   ]
  },
  {
   "cell_type": "code",
   "execution_count": null,
   "metadata": {},
   "outputs": [],
   "source": [
    "ys = np.random.exponential(0.1, size=int(1e7))\n",
    "xs = np.random.exponential(np.reciprocal(ys))"
   ]
  },
  {
   "cell_type": "code",
   "execution_count": null,
   "metadata": {},
   "outputs": [],
   "source": [
    "bins = np.logspace(0, max(np.log10(xs)), 50)"
   ]
  },
  {
   "cell_type": "code",
   "execution_count": null,
   "metadata": {},
   "outputs": [],
   "source": [
    "histo = plt.hist(np.log10(xs + 10), bins=50, cumulative=-1, density=True)\n",
    "plt.yscale('log')"
   ]
  },
  {
   "cell_type": "code",
   "execution_count": null,
   "metadata": {},
   "outputs": [],
   "source": [
    "_ = plt.hist(zs, bins=bins, cumulative=-1)\n",
    "plt.yscale('log')\n",
    "plt.xscale('log')"
   ]
  },
  {
   "cell_type": "code",
   "execution_count": null,
   "metadata": {},
   "outputs": [],
   "source": [
    "histo = plt.hist(ys, bins=50, normed=True)\n",
    "plt.yscale('log')"
   ]
  },
  {
   "cell_type": "code",
   "execution_count": null,
   "metadata": {},
   "outputs": [],
   "source": [
    "xs = 0.5*(histo[1][:-1] + histo[1][1:])\n",
    "ys = np.nan_to_num(np.log10(histo[0]))\n",
    "plt.plot(xs, ys)\n",
    "slope, intercept, r_value, p_value, std_err = stats.linregress(xs[:-8], ys[:-8])\n",
    "x_plot = np.linspace(min(xs), max(xs), 100)\n",
    "plt.plot(x_plot, x_plot * slope + intercept, label='Slope = %.2f' % slope)\n",
    "print(slope)"
   ]
  },
  {
   "cell_type": "code",
   "execution_count": null,
   "metadata": {},
   "outputs": [],
   "source": [
    "_ = plt.hist(np.random.geometric(0.1, size=1000000), bins=200, histtype='step')\n",
    "_ = plt.hist(np.random.exponential(10, size=1000000).astype(int), bins=200, histtype='step')"
   ]
  },
  {
   "cell_type": "code",
   "execution_count": null,
   "metadata": {},
   "outputs": [],
   "source": [
    "np.mean(np.random.geometric(0.1, size=10000))"
   ]
  },
  {
   "cell_type": "code",
   "execution_count": null,
   "metadata": {},
   "outputs": [],
   "source": [
    "ps = np.random.exponential(p_mean, size=2*int(N))\n",
    "ls = np.random.geometric((1 - np.exp(-0.001 * ps)))"
   ]
  },
  {
   "cell_type": "code",
   "execution_count": null,
   "metadata": {},
   "outputs": [],
   "source": [
    "plt.plot(ps, 1 - np.exp(-0.001 * ps))"
   ]
  },
  {
   "cell_type": "code",
   "execution_count": null,
   "metadata": {},
   "outputs": [],
   "source": [
    "_ = plt.hist(np.log10(ls[:end_idx]), bins=100)\n",
    "plt.yscale('log')"
   ]
  },
  {
   "cell_type": "code",
   "execution_count": null,
   "metadata": {},
   "outputs": [],
   "source": [
    "np.random.geometric(0.1)"
   ]
  },
  {
   "cell_type": "code",
   "execution_count": null,
   "metadata": {},
   "outputs": [],
   "source": []
  }
 ],
 "metadata": {
  "kernelspec": {
   "display_name": "Python 2",
   "language": "python",
   "name": "python2"
  },
  "language_info": {
   "codemirror_mode": {
    "name": "ipython",
    "version": 2
   },
   "file_extension": ".py",
   "mimetype": "text/x-python",
   "name": "python",
   "nbconvert_exporter": "python",
   "pygments_lexer": "ipython2",
   "version": "2.7.16"
  }
 },
 "nbformat": 4,
 "nbformat_minor": 2
}
