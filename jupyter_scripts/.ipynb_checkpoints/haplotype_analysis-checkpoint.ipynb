{
 "cells": [
  {
   "cell_type": "code",
   "execution_count": null,
   "metadata": {},
   "outputs": [],
   "source": [
    "import os\n",
    "import numpy as np\n",
    "import bz2\n",
    "import pickle\n",
    "import zarr\n",
    "import dask.array as da\n",
    "import sys\n",
    "import random\n",
    "import networkx as nx\n",
    "import matplotlib.pyplot as plt"
   ]
  },
  {
   "cell_type": "code",
   "execution_count": null,
   "metadata": {},
   "outputs": [],
   "source": [
    "os.chdir('/Users/Device6/Documents/Research/bgoodlab/microbiome_evolution/')"
   ]
  },
  {
   "cell_type": "code",
   "execution_count": null,
   "metadata": {},
   "outputs": [],
   "source": [
    "import config\n",
    "from utils import sample_utils, core_gene_utils, diversity_utils, parallel_utils"
   ]
  },
  {
   "cell_type": "code",
   "execution_count": null,
   "metadata": {},
   "outputs": [],
   "source": [
    "species_name = 'Bacteroides_vulgatus_57955'\n",
    "dh = parallel_utils.DataHoarder(species_name, mode='QP')"
   ]
  },
  {
   "cell_type": "code",
   "execution_count": null,
   "metadata": {},
   "outputs": [],
   "source": [
    "good_chromo = dh.chromosomes[dh.general_mask]\n",
    "core_genes = core_gene_utils.get_sorted_core_genes(species_name)"
   ]
  },
  {
   "cell_type": "code",
   "execution_count": null,
   "metadata": {},
   "outputs": [],
   "source": [
    "# choose a clade cutoff based on the plot\n",
    "div_dir = os.path.join(config.analysis_directory, 'pairwise_divergence', 'between_hosts', '%s.csv' % species_name)\n",
    "div_mat = np.loadtxt(div_dir, delimiter=',')\n",
    "uptri = np.triu_indices(div_mat.shape[0], 1)\n",
    "divs = div_mat[uptri]\n",
    "_ = plt.hist(divs[divs < 0.03], bins=100, density=True)\n",
    "plt.xlabel('Pairwise synonymous divergence')\n",
    "plt.ylabel('Density')\n",
    "# plt.savefig(os.path.join(config.analysis_directory, 'misc', 'B_vulgatus_pairwise.pdf'))"
   ]
  },
  {
   "cell_type": "code",
   "execution_count": null,
   "metadata": {},
   "outputs": [],
   "source": [
    "clade_samples = np.nonzero(div_mat[0, :] < 0.03)[0]\n",
    "clade_mask = div_mat[0, :] < 0.03 # very importantly, use this to keep only the main clade of B vulgatus"
   ]
  },
  {
   "cell_type": "code",
   "execution_count": null,
   "metadata": {},
   "outputs": [],
   "source": [
    "%%time\n",
    "# pile up plot of the core 4D genome\n",
    "thresholds = [4000, 6000, 8000]\n",
    "cumu_runs = np.zeros([np.sum(dh.general_mask), 3])\n",
    "core_gene_cum = np.zeros([len(core_genes), 3])\n",
    "\n",
    "# for pair in random.sample(clade_pairs, 1000):\n",
    "rep = 0\n",
    "while rep < 3000:\n",
    "    pair = random.sample(clade_samples, 2)\n",
    "    if div_mat[pair[0], pair[1]] < 0.005: # removing cousin pairs\n",
    "        continue\n",
    "    # get the snp data\n",
    "    snp_vec, coverage_arr = dh.get_snp_vector(pair)\n",
    "    # get the location in the full array\n",
    "    snp_to_core = np.nonzero(coverage_arr)[0]\n",
    "    snp_genome_locs = snp_to_core[np.nonzero(snp_vec)[0]]\n",
    "\n",
    "    runs = parallel_utils.compute_runs_all_chromosomes(snp_vec, good_chromo[coverage_arr])\n",
    "    # filter the runs and accumulate\n",
    "    for i in range(3):\n",
    "        threshold = thresholds[i]\n",
    "        event_starts = snp_genome_locs[:-1][runs > threshold]\n",
    "        event_ends = snp_genome_locs[1:][runs > threshold]    \n",
    "        for start, end in zip(event_starts, event_ends):\n",
    "            cumu_runs[start:end, i] += 1\n",
    "            gene_start = np.nonzero(core_genes == dh.gene_names[dh.general_mask][start])[0][0]\n",
    "            gene_end = np.nonzero(core_genes == dh.gene_names[dh.general_mask][end])[0][0]\n",
    "            core_gene_cum[gene_start:gene_end, i] += 1\n",
    "    rep += 1"
   ]
  },
  {
   "cell_type": "code",
   "execution_count": null,
   "metadata": {},
   "outputs": [],
   "source": [
    "def count_local_haplotypes(dh, start_idx, end_idx, sample_mask, snp_tol=1):\n",
    "    hap = dh.snp_arr[start_idx:end_idx, sample_mask]\n",
    "    covered = dh.covered_arr[start_idx:end_idx, sample_mask]\n",
    "    # perform (dumb) pairwise comparison\n",
    "    res = np.zeros((hap.shape[1], hap.shape[1]))\n",
    "    for i in range(hap.shape[1]):\n",
    "        for j in range(hap.shape[1]):\n",
    "            v = hap[:, i] != hap[:, j]\n",
    "            c = covered[:, i] & covered[:, j]\n",
    "            res[i, j] = np.sum(v & c)\n",
    "    G = nx.from_numpy_matrix(res <= 1)\n",
    "    components = map(list, sorted(nx.connected_components(G), key=len, reverse=True))\n",
    "    return components"
   ]
  },
  {
   "cell_type": "code",
   "execution_count": null,
   "metadata": {},
   "outputs": [],
   "source": [
    "%%time\n",
    "# computing the sliding window analysis\n",
    "window_size = 4000\n",
    "stride = 1000\n",
    "start = 0\n",
    "all_fracs = []\n",
    "import time\n",
    "t0 = time.time()\n",
    "while start < dh.snp_arr.shape[0]:\n",
    "    end = min(dh.snp_arr.shape[0], start + window_size)\n",
    "    cs = count_local_haplotypes(dh, start, end, clade_mask)\n",
    "    frac = np.array(map(len, cs)) / float(np.sum(clade_mask))\n",
    "    all_fracs.append(frac)\n",
    "    start += stride\n",
    "    if start % 10000 == 0:\n",
    "        print(\"{:.2}% at {:.2} secs\".format(100 * float(start) / dh.snp_arr.shape[0], time.time() - t0))"
   ]
  },
  {
   "cell_type": "code",
   "execution_count": null,
   "metadata": {},
   "outputs": [],
   "source": [
    "import pandas as pd\n",
    "df = pd.DataFrame()\n",
    "df['Start'] = np.arange(0, dh.snp_arr.shape[0], stride)\n",
    "df['End'] = np.minimum(df['Start'] + window_size, dh.snp_arr.shape[0])\n",
    "df['MaxFrac'] = map(max, all_fracs)\n",
    "df['Heterozygosity'] = map(lambda x: np.sum(x*x), all_fracs)\n",
    "df['MaxFrac^2'] = df['MaxFrac'] ** 2\n",
    "df['H12'] = map(lambda x: np.sum(x*x) + 2*x[0]*x[1] if len(x) > 1 else x[0]**2, all_fracs)\n",
    "df['H2'] = map(lambda x: np.sum(x*x) - x[0]**2, all_fracs)"
   ]
  },
  {
   "cell_type": "code",
   "execution_count": null,
   "metadata": {},
   "outputs": [],
   "source": [
    "# for snp density plot\n",
    "has_snp = np.sum((dh.snp_arr & dh.covered_arr)[:, clade_mask], axis=1) > 0"
   ]
  },
  {
   "cell_type": "code",
   "execution_count": null,
   "metadata": {},
   "outputs": [],
   "source": [
    "from matplotlib import cm # for color map\n",
    "\n",
    "fig, axes = plt.subplots(4, 1, figsize=(8, 6), dpi=300)\n",
    "snp_window = 10000\n",
    "axes[0].plot(np.convolve(has_snp, np.ones(snp_window)/snp_window, mode='Same'))\n",
    "for i in range(3):\n",
    "    axes[1].plot(cumu_runs[:, i] / 3000, label=thresholds[i])\n",
    "locs = np.array((df['Start'] + df['End']) / 2).astype(int)\n",
    "axes[2].plot((df['Start'] + df['End']) / 2, df['Heterozygosity'], '.', markersize=1, label='Heterozygosity (H1)')\n",
    "axes[2].plot((df['Start'] + df['End']) / 2, df['H12'], '.', markersize=1, label='H12')\n",
    "\n",
    "axes[3].plot(locs, np.array(df['H2'] / df['Heterozygosity']), label='H2/H1')\n",
    "\n",
    "\n",
    "for i in range(3):\n",
    "    axes[i].set_xticklabels([])\n",
    "axes[1].legend()\n",
    "axes[2].legend()\n",
    "axes[0].set_ylabel('SNP density')\n",
    "axes[1].set_ylabel('Frac of pairs sharing')\n",
    "axes[3].set_ylabel('H2 / H1')\n",
    "axes[3].set_xlabel('Core gene 4D location')\n",
    "plt.tight_layout()"
   ]
  },
  {
   "cell_type": "code",
   "execution_count": null,
   "metadata": {},
   "outputs": [],
   "source": [
    "from matplotlib import cm # for color map\n",
    "\n",
    "fig, axes = plt.subplots(4, 1, figsize=(8, 6), dpi=300)\n",
    "snp_window = 10000\n",
    "axes[0].plot(np.convolve(has_snp, np.ones(snp_window)/snp_window, mode='Same'))\n",
    "for i in range(3):\n",
    "    axes[1].plot(cumu_runs[:, i] / 3000, label=thresholds[i])\n",
    "\n",
    "from scipy.interpolate import interp1d\n",
    "y = np.array(df['H2'] / df['Heterozygosity'])\n",
    "x = np.array((df['Start'] + df['End']) / 2).astype(int)\n",
    "f = interp1d(x, y)\n",
    "xnew = np.arange(min(x), max(x))\n",
    "c_val = cumu_runs[xnew, 0]\n",
    "axes[3].scatter(xnew, f(xnew), s=1, c=cm.Blues(np.abs(c_val / max(c_val))), label='H2/H1')\n",
    "\n",
    "axes[2].plot(x[:-4], df['Heterozygosity'][:-4], '.', markersize=1, label='Heterozygosity (H1)')\n",
    "axes[2].plot(x[:-4], df['H12'][:-4], '.', markersize=1, label='H12')\n",
    "\n",
    "for i in range(3):\n",
    "    axes[i].set_xticklabels([])\n",
    "axes[1].legend()\n",
    "axes[2].legend()\n",
    "axes[0].set_ylabel('SNP density')\n",
    "axes[1].set_ylabel('Frac of pairs sharing')\n",
    "axes[3].set_ylabel('H2 / H1')\n",
    "axes[3].set_xlabel('Core gene 4D location')\n",
    "plt.tight_layout()"
   ]
  },
  {
   "cell_type": "code",
   "execution_count": null,
   "metadata": {},
   "outputs": [],
   "source": [
    "plt.subplots(1, 1, figsize=(8,2), dpi=300)\n",
    "plt.ylim([0, 0.07])\n",
    "for i in range(3):\n",
    "    plt.plot(cumu_runs[:, i] / 3000, label=thresholds[i])"
   ]
  },
  {
   "cell_type": "code",
   "execution_count": null,
   "metadata": {},
   "outputs": [],
   "source": []
  }
 ],
 "metadata": {
  "kernelspec": {
   "display_name": "Python 2",
   "language": "python",
   "name": "python2"
  },
  "language_info": {
   "codemirror_mode": {
    "name": "ipython",
    "version": 2
   },
   "file_extension": ".py",
   "mimetype": "text/x-python",
   "name": "python",
   "nbconvert_exporter": "python",
   "pygments_lexer": "ipython2",
   "version": "2.7.18"
  }
 },
 "nbformat": 4,
 "nbformat_minor": 2
}
